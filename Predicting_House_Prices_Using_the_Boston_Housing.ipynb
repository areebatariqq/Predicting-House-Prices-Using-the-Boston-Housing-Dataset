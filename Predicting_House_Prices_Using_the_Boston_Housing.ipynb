{
  "nbformat": 4,
  "nbformat_minor": 0,
  "metadata": {
    "colab": {
      "provenance": []
    },
    "kernelspec": {
      "name": "python3",
      "display_name": "Python 3"
    },
    "language_info": {
      "name": "python"
    }
  },
  "cells": [
    {
      "cell_type": "code",
      "execution_count": null,
      "metadata": {
        "id": "OK5Ufzuoo0cL"
      },
      "outputs": [],
      "source": [
        "import pandas as pd\n",
        "import numpy as np\n",
        "import matplotlib.pyplot as plt\n",
        "\n",
        "from sklearn.model_selection import train_test_split\n",
        "from sklearn.preprocessing import StandardScaler\n",
        "from sklearn.linear_model import LinearRegression\n",
        "from sklearn.ensemble import RandomForestRegressor\n",
        "from sklearn.metrics import mean_squared_error, r2_score\n",
        "import xgboost as xgb"
      ]
    },
    {
      "cell_type": "markdown",
      "source": [
        "Data Preprocessing"
      ],
      "metadata": {
        "id": "VI7vIO9wuJOv"
      }
    },
    {
      "cell_type": "code",
      "source": [
        "df = pd.read_csv('housing.csv')\n",
        "\n",
        "# Fill missing values with median\n",
        "df['total_bedrooms'].fillna(df['total_bedrooms'].median(), inplace=True)\n",
        "# Encode categorical column 'ocean_proximity'\n",
        "df = pd.get_dummies(df, columns=['ocean_proximity'], drop_first=True)"
      ],
      "metadata": {
        "id": "QwKhebK0uJnQ"
      },
      "execution_count": null,
      "outputs": []
    },
    {
      "cell_type": "code",
      "source": [
        "# Feature & target selection\n",
        "X_data = df.drop('median_house_value', axis=1)\n",
        "y_data = df['median_house_value']\n",
        "\n",
        "# Normalize numeric features\n",
        "scaler = StandardScaler()\n",
        "X_scaled = scaler.fit_transform(X_data)"
      ],
      "metadata": {
        "id": "ZBMkkizavOd4"
      },
      "execution_count": null,
      "outputs": []
    },
    {
      "cell_type": "code",
      "source": [
        "# Train-test split\n",
        "X_train, X_test, y_train, y_test = train_test_split(X_scaled, y_data, test_size=0.2, random_state=42)\n"
      ],
      "metadata": {
        "id": "kPzjRjFjvSkP"
      },
      "execution_count": null,
      "outputs": []
    },
    {
      "cell_type": "markdown",
      "source": [
        "Model Implementation"
      ],
      "metadata": {
        "id": "eFZ1dezCvlb1"
      }
    },
    {
      "cell_type": "code",
      "source": [
        "model_linear = LinearRegression()\n",
        "model_forest = RandomForestRegressor(random_state=42)\n",
        "model_boost = xgb.XGBRegressor(objective='reg:squarederror', random_state=42)\n",
        "\n",
        "model_linear.fit(X_train, y_train)\n",
        "model_forest.fit(X_train, y_train)\n",
        "model_boost.fit(X_train, y_train)"
      ],
      "metadata": {
        "id": "UF2fh_3bvfY-"
      },
      "execution_count": null,
      "outputs": []
    },
    {
      "cell_type": "markdown",
      "source": [
        "Performance Comparison"
      ],
      "metadata": {
        "id": "UG5UOk1swHGo"
      }
    },
    {
      "cell_type": "code",
      "source": [
        "pred_linear = model_linear.predict(X_test)\n",
        "pred_forest = model_forest.predict(X_test)\n",
        "pred_boost = model_boost.predict(X_test)\n",
        "\n",
        "# RMSE and R²\n",
        "def evaluate_model(name, y_true, y_pred):\n",
        "    rmse = np.sqrt(mean_squared_error(y_true, y_pred))\n",
        "    r2 = r2_score(y_true, y_pred)\n",
        "    print(f\"{name} -> RMSE: {rmse:.2f}, R²: {r2:.2f}\")\n",
        "\n",
        "evaluate_model(\"Linear Regression\", y_test, pred_linear)\n",
        "evaluate_model(\"Random Forest\", y_test, pred_forest)\n",
        "evaluate_model(\"XGBoost\", y_test, pred_boost)\n"
      ],
      "metadata": {
        "id": "40I1SNOywHmu"
      },
      "execution_count": null,
      "outputs": []
    },
    {
      "cell_type": "markdown",
      "source": [
        "Feature Importance"
      ],
      "metadata": {
        "id": "VZyC1633wRm7"
      }
    },
    {
      "cell_type": "code",
      "source": [
        "features = X_data.columns\n",
        "\n",
        "plt.figure(figsize=(12, 5))\n",
        "\n",
        "plt.subplot(1, 2, 1)\n",
        "plt.barh(features, model_forest.feature_importances_)\n",
        "plt.title(\"Random Forest Feature Importance\")\n",
        "\n",
        "plt.subplot(1, 2, 2)\n",
        "plt.barh(features, model_boost.feature_importances_)\n",
        "plt.title(\"XGBoost Feature Importance\")\n",
        "\n",
        "plt.tight_layout()\n",
        "plt.show()\n"
      ],
      "metadata": {
        "id": "nNPfIVpswSpA"
      },
      "execution_count": null,
      "outputs": []
    },
    {
      "cell_type": "markdown",
      "source": [
        "Model Testing"
      ],
      "metadata": {
        "id": "pQa7N66pwY_O"
      }
    },
    {
      "cell_type": "code",
      "source": [
        "print(\"\\n Predict Median House Value\")\n",
        "print(\"Enter values for the following features:\\n\")\n",
        "\n",
        "input_fields = [\n",
        "    'longitude', 'latitude', 'housing_median_age', 'total_rooms',\n",
        "    'total_bedrooms', 'population', 'households', 'median_income'\n",
        "]\n",
        "\n",
        "user_inputs = {}\n",
        "for field in input_fields:\n",
        "    while True:\n",
        "        try:\n",
        "            user_inputs[field] = float(input(f\"{field}: \"))\n",
        "            break\n",
        "        except ValueError:\n",
        "            print(\" Please enter a numeric value.\")\n",
        "\n",
        "print(\"\\nSpecify proximity to ocean (True/False):\")\n",
        "ocean_features = [\n",
        "    'ocean_proximity_INLAND',\n",
        "    'ocean_proximity_ISLAND',\n",
        "    'ocean_proximity_NEAR BAY',\n",
        "    'ocean_proximity_NEAR OCEAN'\n",
        "]\n",
        "\n",
        "for feature in ocean_features:\n",
        "    while True:\n",
        "        val = input(f\"{feature}: \").strip().lower()\n",
        "        if val in ['true', 'false']:\n",
        "            user_inputs[feature] = val == 'true'\n",
        "            break\n",
        "        else:\n",
        "            print(\" Please enter either 'True' or 'False'.\")\n",
        "\n",
        "# Construct full input vector with default 0s\n",
        "model_features = X_data.columns.tolist()\n",
        "test_input = {col: 0 for col in model_features}\n",
        "test_input.update(user_inputs)\n",
        "\n",
        "# Prepare input DataFrame\n",
        "input_df = pd.DataFrame([test_input])\n",
        "\n",
        "# Scale numerical values\n",
        "input_scaled = scaler.transform(input_df)\n",
        "input_scaled_df = pd.DataFrame(input_scaled, columns=model_features)\n",
        "\n",
        "# Predict\n",
        "predicted_price = model_boost.predict(input_scaled_df)[0]\n",
        "\n",
        "print(\"\\n Predicted Median House Value:\")\n",
        "print(f\"${predicted_price:,.2f}\")"
      ],
      "metadata": {
        "colab": {
          "base_uri": "https://localhost:8080/"
        },
        "id": "9bSluS1EwWrq",
        "outputId": "7835f665-410c-4bd3-9743-3ccfaa13383b"
      },
      "execution_count": null,
      "outputs": [
        {
          "output_type": "stream",
          "name": "stdout",
          "text": [
            "\n",
            " Predict Median House Value\n",
            "Enter values for the following features:\n",
            "\n"
          ]
        }
      ]
    }
  ]
}